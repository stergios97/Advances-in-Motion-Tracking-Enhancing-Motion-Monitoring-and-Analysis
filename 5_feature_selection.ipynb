{
 "cells": [
  {
   "cell_type": "code",
   "execution_count": 8,
   "metadata": {},
   "outputs": [
    {
     "name": "stdout",
     "output_type": "stream",
     "text": [
      "Training set length is:  1584\n",
      "Test set length is:  679\n",
      "#basic features:  20\n",
      "#time features:  60\n",
      "#frequency features:  168\n"
     ]
    }
   ],
   "source": [
    "##############################################################\n",
    "#                                                            #\n",
    "#    Mark Hoogendoorn and Burkhardt Funk (2017)              #\n",
    "#    Machine Learning for the Quantified Self                #\n",
    "#    Springer                                                #\n",
    "#    Chapter 7                                               #\n",
    "#                                                            #\n",
    "##############################################################\n",
    "\n",
    "import os\n",
    "import copy\n",
    "import numpy as np\n",
    "import pandas as pd\n",
    "from pathlib import Path\n",
    "import matplotlib.pyplot as plt\n",
    "import time\n",
    "start = time.time()\n",
    "\n",
    "from sklearn.model_selection import train_test_split\n",
    "\n",
    "from Chapter7.PrepareDatasetForLearning import PrepareDatasetForLearning\n",
    "from Chapter7.LearningAlgorithms import ClassificationAlgorithms\n",
    "from Chapter7.LearningAlgorithms import RegressionAlgorithms\n",
    "from Chapter7.Evaluation import ClassificationEvaluation\n",
    "from Chapter7.Evaluation import RegressionEvaluation\n",
    "from Chapter7.FeatureSelection import FeatureSelectionClassification\n",
    "from Chapter7.FeatureSelection import FeatureSelectionRegression\n",
    "from util import util\n",
    "from util.VisualizeDataset import VisualizeDataset\n",
    "\n",
    "# Read the result from the previous chapter, and make sure the index is of the type datetime.\n",
    "DATASET_PATH = Path('./intermediate_datafiles/125')\n",
    "N_FORWARD_SELECTION = 20\n",
    "\n",
    "dataset = pd.read_csv(DATASET_PATH / 'dataset_result_fe.csv', index_col=0)\n",
    "dataset.index = pd.to_datetime(dataset.index)\n",
    "\n",
    "# Create one target column\n",
    "activityColumns = dataset.filter(regex='^activity').columns.tolist()\n",
    "dataset['activity'] = dataset[activityColumns].idxmax(axis=1)\n",
    "dataset.drop(activityColumns, axis=1, inplace=True)\n",
    "dataset = dataset.dropna()\n",
    "\n",
    "prepare = PrepareDatasetForLearning()\n",
    "\n",
    "train_X, test_X, train_y, test_y = prepare.split_single_dataset_classification(dataset, ['activity'], \n",
    "                                                                               'exact', 0.7, filter=False, temporal=False)\n",
    "\n",
    "print('Training set length is: ', len(train_X.index))\n",
    "print('Test set length is: ', len(test_X.index))\n",
    "\n",
    "# Select subsets of the features that we will consider:\n",
    "\n",
    "basic_features = ['acc_x', 'acc_y', 'acc_z', 'gyr_x', 'gyr_y', 'gyr_z',\n",
    "       'linear_x', 'linear_y', 'linear_z', 'loc_Latitude', 'loc_Longitude',\n",
    "       'loc_Height', 'loc_Velocity', 'loc_Direction', 'loc_Horizontal',\n",
    "       'loc_Vertical', 'mag_x', 'mag_y', 'mag_z', 'prox_Distance']\n",
    "\n",
    "time_features = [name for name in dataset.columns if '_temp_' in name]\n",
    "freq_features = [name for name in dataset.columns if (('_freq' in name) or ('_pse' in name))]\n",
    "print('#basic features: ', len(basic_features))\n",
    "\n",
    "print('#time features: ', len(time_features))\n",
    "print('#frequency features: ', len(freq_features))\n",
    "\n",
    "features_after_chapter_3 = list(set().union(basic_features))\n",
    "features_after_chapter_4 = list(set().union(basic_features, time_features, freq_features))"
   ]
  },
  {
   "cell_type": "code",
   "execution_count": 9,
   "metadata": {},
   "outputs": [
    {
     "name": "stdout",
     "output_type": "stream",
     "text": [
      "Added feature0\n",
      "Added feature1\n",
      "Added feature2\n",
      "Added feature3\n",
      "Added feature4\n",
      "Added feature5\n",
      "Added feature6\n",
      "Added feature7\n",
      "Added feature8\n",
      "Added feature9\n",
      "Added feature10\n",
      "Added feature11\n",
      "Added feature12\n",
      "Added feature13\n",
      "Added feature14\n",
      "Added feature15\n",
      "Added feature16\n",
      "Added feature17\n",
      "Added feature18\n",
      "Added feature19\n"
     ]
    }
   ],
   "source": [
    "fs = FeatureSelectionClassification()\n",
    "\n",
    "features, ordered_features, ordered_scores = fs.forward_selection(N_FORWARD_SELECTION,\n",
    "                                                                  train_X[features_after_chapter_4],\n",
    "                                                                  test_X[features_after_chapter_4],\n",
    "                                                                  train_y,\n",
    "                                                                  test_y,\n",
    "                                                                  gridsearch=False)"
   ]
  },
  {
   "cell_type": "code",
   "execution_count": 10,
   "metadata": {},
   "outputs": [
    {
     "name": "stdout",
     "output_type": "stream",
     "text": [
      "acc_z_temp_min_ws_120 0.7128129602356407\n",
      "acc_y_temp_min_ws_120 0.8350515463917526\n",
      "linear_z_temp_median_ws_120 0.8792341678939617\n",
      "mag_y_temp_max_ws_120 0.8895434462444771\n",
      "loc_Longitude 0.9027982326951399\n",
      "mag_y 0.9189985272459499\n",
      "gyr_z_freq_4.0_Hz_ws_20 0.9189985272459499\n",
      "acc_y_freq_1.2_Hz_ws_20 0.9189985272459499\n",
      "gyr_z_freq_1.2_Hz_ws_20 0.9189985272459499\n",
      "gyr_y_pse 0.9189985272459499\n",
      "linear_z_freq_1.2_Hz_ws_20 0.9189985272459499\n",
      "linear_y_freq_2.0_Hz_ws_20 0.9189985272459499\n",
      "linear_x_freq_0.0_Hz_ws_20 0.9189985272459499\n",
      "mag_z_pse 0.9189985272459499\n",
      "linear_x_freq_0.4_Hz_ws_20 0.9189985272459499\n",
      "linear_z_freq_1.6_Hz_ws_20 0.9189985272459499\n",
      "mag_x_freq_0.4_Hz_ws_20 0.9189985272459499\n",
      "gyr_z_freq_0.8_Hz_ws_20 0.9189985272459499\n",
      "linear_x_freq_0.8_Hz_ws_20 0.9189985272459499\n",
      "mag_z_freq_3.2_Hz_ws_20 0.9189985272459499\n"
     ]
    }
   ],
   "source": [
    "for idx in range(min(len(ordered_features), len(ordered_scores))):\n",
    "    print(ordered_features[idx], ordered_scores[idx])"
   ]
  },
  {
   "cell_type": "code",
   "execution_count": 11,
   "metadata": {},
   "outputs": [
    {
     "data": {
      "text/plain": [
       "['acc_z_temp_min_ws_120',\n",
       " 'acc_y_temp_min_ws_120',\n",
       " 'linear_z_temp_median_ws_120',\n",
       " 'mag_y_temp_max_ws_120',\n",
       " 'loc_Longitude',\n",
       " 'mag_y',\n",
       " 'gyr_z_freq_4.0_Hz_ws_20',\n",
       " 'acc_y_freq_1.2_Hz_ws_20',\n",
       " 'gyr_z_freq_1.2_Hz_ws_20',\n",
       " 'gyr_y_pse',\n",
       " 'linear_z_freq_1.2_Hz_ws_20',\n",
       " 'linear_y_freq_2.0_Hz_ws_20',\n",
       " 'linear_x_freq_0.0_Hz_ws_20',\n",
       " 'mag_z_pse',\n",
       " 'linear_x_freq_0.4_Hz_ws_20',\n",
       " 'linear_z_freq_1.6_Hz_ws_20',\n",
       " 'mag_x_freq_0.4_Hz_ws_20',\n",
       " 'gyr_z_freq_0.8_Hz_ws_20',\n",
       " 'linear_x_freq_0.8_Hz_ws_20',\n",
       " 'mag_z_freq_3.2_Hz_ws_20']"
      ]
     },
     "execution_count": 11,
     "metadata": {},
     "output_type": "execute_result"
    }
   ],
   "source": [
    "features"
   ]
  }
 ],
 "metadata": {
  "kernelspec": {
   "display_name": "Python 3",
   "language": "python",
   "name": "python3"
  },
  "language_info": {
   "codemirror_mode": {
    "name": "ipython",
    "version": 3
   },
   "file_extension": ".py",
   "mimetype": "text/x-python",
   "name": "python",
   "nbconvert_exporter": "python",
   "pygments_lexer": "ipython3",
   "version": "3.10.11"
  },
  "orig_nbformat": 4
 },
 "nbformat": 4,
 "nbformat_minor": 2
}
